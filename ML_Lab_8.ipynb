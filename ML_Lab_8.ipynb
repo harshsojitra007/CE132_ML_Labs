{
  "nbformat": 4,
  "nbformat_minor": 0,
  "metadata": {
    "colab": {
      "provenance": [],
      "mount_file_id": "1hN_u5bN103v9EmmIkgqWJi4xgDIPvFbL",
      "authorship_tag": "ABX9TyPmBxENXkBwHYGQA5PaE8xc",
      "include_colab_link": true
    },
    "kernelspec": {
      "name": "python3",
      "display_name": "Python 3"
    },
    "language_info": {
      "name": "python"
    }
  },
  "cells": [
    {
      "cell_type": "markdown",
      "metadata": {
        "id": "view-in-github",
        "colab_type": "text"
      },
      "source": [
        "<a href=\"https://colab.research.google.com/github/harshsojitra007/CE132_ML_Labs/blob/main/ML_Lab_8.ipynb\" target=\"_parent\"><img src=\"https://colab.research.google.com/assets/colab-badge.svg\" alt=\"Open In Colab\"/></a>"
      ]
    },
    {
      "cell_type": "code",
      "execution_count": 14,
      "metadata": {
        "colab": {
          "base_uri": "https://localhost:8080/"
        },
        "id": "uhTEmsWT2MqJ",
        "outputId": "a200e9e1-572c-4dcb-e08e-11e33e77257b"
      },
      "outputs": [
        {
          "output_type": "stream",
          "name": "stdout",
          "text": [
            "Accuracy 0.4827586206896552\n",
            "Precision 0.4827586206896552\n",
            "Recall 1.0\n",
            "              precision    recall  f1-score   support\n",
            "\n",
            "           0       0.00      0.00      0.00        15\n",
            "           1       0.48      1.00      0.65        14\n",
            "\n",
            "    accuracy                           0.48        29\n",
            "   macro avg       0.24      0.50      0.33        29\n",
            "weighted avg       0.23      0.48      0.31        29\n",
            "\n"
          ]
        },
        {
          "output_type": "stream",
          "name": "stderr",
          "text": [
            "/usr/local/lib/python3.8/dist-packages/sklearn/base.py:443: UserWarning: X has feature names, but LogisticRegression was fitted without feature names\n",
            "  warnings.warn(\n",
            "/usr/local/lib/python3.8/dist-packages/sklearn/metrics/_classification.py:1318: UndefinedMetricWarning: Precision and F-score are ill-defined and being set to 0.0 in labels with no predicted samples. Use `zero_division` parameter to control this behavior.\n",
            "  _warn_prf(average, modifier, msg_start, len(result))\n",
            "/usr/local/lib/python3.8/dist-packages/sklearn/metrics/_classification.py:1318: UndefinedMetricWarning: Precision and F-score are ill-defined and being set to 0.0 in labels with no predicted samples. Use `zero_division` parameter to control this behavior.\n",
            "  _warn_prf(average, modifier, msg_start, len(result))\n",
            "/usr/local/lib/python3.8/dist-packages/sklearn/metrics/_classification.py:1318: UndefinedMetricWarning: Precision and F-score are ill-defined and being set to 0.0 in labels with no predicted samples. Use `zero_division` parameter to control this behavior.\n",
            "  _warn_prf(average, modifier, msg_start, len(result))\n"
          ]
        }
      ],
      "source": [
        "import pandas as pd\n",
        "import numpy as np\n",
        "import matplotlib.pyplot as plt\n",
        "from mlxtend.plotting import plot_confusion_matrix\n",
        "from sklearn.preprocessing import StandardScaler, PolynomialFeatures\n",
        "from sklearn.linear_model import LogisticRegression, LinearRegression\n",
        "from sklearn.naive_bayes import GaussianNB\n",
        "from sklearn.tree import DecisionTreeClassifier\n",
        "from sklearn.metrics import confusion_matrix\n",
        "from sklearn.metrics import accuracy_score, precision_score, recall_score, classification_report\n",
        "from sklearn.ensemble import StackingClassifier\n",
        "from sklearn.model_selection import train_test_split\n",
        "from sklearn.preprocessing import LabelEncoder\n",
        "\n",
        "data = pd.read_csv(\"/content/drive/MyDrive/Colab Notebooks/data.csv\", usecols=['radius_mean', 'perimeter_mean', 'area_mean', 'diagnosis'])\n",
        "data.head()\n",
        "\n",
        "features = data.drop('diagnosis', axis=1)\n",
        "label = data['diagnosis']\n",
        "\n",
        "encoder = LabelEncoder()\n",
        "labels = encoder.fit_transform(label)\n",
        "\n",
        "trainF, testF, trainL, testL = train_test_split(features, labels, test_size=0.05, random_state=7)\n",
        "\n",
        "model1 = GaussianNB()\n",
        "model1.fit(trainF, trainL)\n",
        "pred1 = model1.predict(testF)\n",
        "\n",
        "model2 = LogisticRegression()\n",
        "model2.fit(trainF, trainL)\n",
        "pred2 = model2.predict(testF)\n",
        "\n",
        "model3 = DecisionTreeClassifier()\n",
        "model3.fit(trainF, trainL)\n",
        "pred3 = model3.predict(testF)\n",
        "\n",
        "blender = LogisticRegression()\n",
        "mixture = np.array([pred1, pred2, pred3])\n",
        "mixture = np.transpose(mixture)\n",
        "blender.fit(mixture, testL)\n",
        "\n",
        "predicted = blender.predict(testF)\n",
        "print('Accuracy {}'.format(accuracy_score(testL, predicted)))\n",
        "print('Precision {}'.format(precision_score(testL, predicted)))\n",
        "print('Recall {}'.format(recall_score(testL, predicted)))\n",
        "print(classification_report(testL, predicted))"
      ]
    },
    {
      "cell_type": "code",
      "source": [
        "from sklearn.ensemble import BaggingClassifier\n",
        "import pandas as pd\n",
        "import numpy as np\n",
        "import matplotlib.pyplot as plt\n",
        "from sklearn.metrics import confusion_matrix\n",
        "from sklearn.metrics import accuracy_score, precision_score, recall_score, classification_report\n",
        "from sklearn.model_selection import train_test_split\n",
        "from sklearn.preprocessing import LabelEncoder\n",
        "\n",
        "data = pd.read_csv(\"/content/drive/MyDrive/Colab Notebooks/data.csv\")\n",
        "data.head()\n",
        "\n",
        "data = data.drop('Unnamed: 32', axis=1)\n",
        "\n",
        "features = data.drop('diagnosis', axis=1)\n",
        "labels = data['diagnosis']\n",
        "\n",
        "encoder = LabelEncoder()\n",
        "labels = encoder.fit_transform(labels)\n",
        "\n",
        "trainF, testF, trainL, testL = train_test_split(features, labels, test_size=0.2, random_state=7)\n",
        "\n",
        "model = BaggingClassifier()\n",
        "model.fit(trainF, trainL)\n",
        "\n",
        "predicted = model.predict(testF)\n",
        "print('Accuracy {}'.format(accuracy_score(testL, predicted)))\n",
        "print('Precision {}'.format(precision_score(testL, predicted)))\n",
        "print('Recall {}'.format(recall_score(testL, predicted)))\n",
        "print(classification_report(testL, predicted))"
      ],
      "metadata": {
        "colab": {
          "base_uri": "https://localhost:8080/"
        },
        "id": "7uV-1b7zPy_h",
        "outputId": "953a643d-8ab4-41f7-d4b5-42461d1a9ca2"
      },
      "execution_count": 28,
      "outputs": [
        {
          "output_type": "stream",
          "name": "stdout",
          "text": [
            "Accuracy 0.956140350877193\n",
            "Precision 1.0\n",
            "Recall 0.875\n",
            "              precision    recall  f1-score   support\n",
            "\n",
            "           0       0.94      1.00      0.97        74\n",
            "           1       1.00      0.88      0.93        40\n",
            "\n",
            "    accuracy                           0.96       114\n",
            "   macro avg       0.97      0.94      0.95       114\n",
            "weighted avg       0.96      0.96      0.96       114\n",
            "\n"
          ]
        }
      ]
    },
    {
      "cell_type": "code",
      "source": [
        "from sklearn.ensemble import AdaBoostClassifier\n",
        "from sklearn.tree import DecisionTreeClassifier\n",
        "from sklearn.ensemble import BaggingClassifier\n",
        "import pandas as pd\n",
        "import numpy as np\n",
        "import matplotlib.pyplot as plt\n",
        "from sklearn.metrics import confusion_matrix\n",
        "from sklearn.metrics import accuracy_score, precision_score, recall_score, classification_report\n",
        "from sklearn.model_selection import train_test_split\n",
        "from sklearn.preprocessing import LabelEncoder\n",
        "\n",
        "data = pd.read_csv(\"/content/drive/MyDrive/Colab Notebooks/data.csv\")\n",
        "data.head()\n",
        "\n",
        "data = data.drop('Unnamed: 32', axis=1)\n",
        "\n",
        "features = data.drop('diagnosis', axis=1)\n",
        "labels = data['diagnosis']\n",
        "\n",
        "encoder = LabelEncoder()\n",
        "labels = encoder.fit_transform(labels)\n",
        "\n",
        "trainF, testF, trainL, testL = train_test_split(features, labels, test_size=0.2, random_state=7)\n",
        "\n",
        "model = AdaBoostClassifier()\n",
        "model.fit(trainF, trainL)\n",
        "\n",
        "predicted = model.predict(testF)\n",
        "print('Accuracy {}'.format(accuracy_score(testL, predicted)))\n",
        "print('Precision {}'.format(precision_score(testL, predicted)))\n",
        "print('Recall {}'.format(recall_score(testL, predicted)))\n",
        "print(classification_report(testL, predicted))"
      ],
      "metadata": {
        "colab": {
          "base_uri": "https://localhost:8080/"
        },
        "id": "dxxaysdqSm5o",
        "outputId": "1baae070-6036-439b-eb1b-72db5fdaaf98"
      },
      "execution_count": 29,
      "outputs": [
        {
          "output_type": "stream",
          "name": "stdout",
          "text": [
            "Accuracy 0.9736842105263158\n",
            "Precision 0.9743589743589743\n",
            "Recall 0.95\n",
            "              precision    recall  f1-score   support\n",
            "\n",
            "           0       0.97      0.99      0.98        74\n",
            "           1       0.97      0.95      0.96        40\n",
            "\n",
            "    accuracy                           0.97       114\n",
            "   macro avg       0.97      0.97      0.97       114\n",
            "weighted avg       0.97      0.97      0.97       114\n",
            "\n"
          ]
        }
      ]
    }
  ]
}