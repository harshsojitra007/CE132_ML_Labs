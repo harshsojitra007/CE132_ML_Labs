{
  "nbformat": 4,
  "nbformat_minor": 0,
  "metadata": {
    "colab": {
      "provenance": [],
      "mount_file_id": "1hN_u5bN103v9EmmIkgqWJi4xgDIPvFbL",
      "authorship_tag": "ABX9TyOZzW71FsMHFn4LLL+u+1+x",
      "include_colab_link": true
    },
    "kernelspec": {
      "name": "python3",
      "display_name": "Python 3"
    },
    "language_info": {
      "name": "python"
    }
  },
  "cells": [
    {
      "cell_type": "markdown",
      "metadata": {
        "id": "view-in-github",
        "colab_type": "text"
      },
      "source": [
        "<a href=\"https://colab.research.google.com/github/harshsojitra007/CE132_ML_Labs/blob/main/ML_Lab_8.ipynb\" target=\"_parent\"><img src=\"https://colab.research.google.com/assets/colab-badge.svg\" alt=\"Open In Colab\"/></a>"
      ]
    },
    {
      "cell_type": "code",
      "execution_count": 22,
      "metadata": {
        "colab": {
          "base_uri": "https://localhost:8080/"
        },
        "id": "uhTEmsWT2MqJ",
        "outputId": "3cd8f253-9469-4898-92b5-4f1f72218831"
      },
      "outputs": [
        {
          "output_type": "stream",
          "name": "stdout",
          "text": [
            "Accuracy 0.43859649122807015\n",
            "Precision 0.43859649122807015\n",
            "Recall 1.0\n",
            "              precision    recall  f1-score   support\n",
            "\n",
            "           0       0.00      0.00      0.00        64\n",
            "           1       0.44      1.00      0.61        50\n",
            "\n",
            "    accuracy                           0.44       114\n",
            "   macro avg       0.22      0.50      0.30       114\n",
            "weighted avg       0.19      0.44      0.27       114\n",
            "\n"
          ]
        },
        {
          "output_type": "stream",
          "name": "stderr",
          "text": [
            "/usr/local/lib/python3.8/dist-packages/sklearn/base.py:443: UserWarning: X has feature names, but LogisticRegression was fitted without feature names\n",
            "  warnings.warn(\n",
            "/usr/local/lib/python3.8/dist-packages/sklearn/metrics/_classification.py:1318: UndefinedMetricWarning: Precision and F-score are ill-defined and being set to 0.0 in labels with no predicted samples. Use `zero_division` parameter to control this behavior.\n",
            "  _warn_prf(average, modifier, msg_start, len(result))\n",
            "/usr/local/lib/python3.8/dist-packages/sklearn/metrics/_classification.py:1318: UndefinedMetricWarning: Precision and F-score are ill-defined and being set to 0.0 in labels with no predicted samples. Use `zero_division` parameter to control this behavior.\n",
            "  _warn_prf(average, modifier, msg_start, len(result))\n",
            "/usr/local/lib/python3.8/dist-packages/sklearn/metrics/_classification.py:1318: UndefinedMetricWarning: Precision and F-score are ill-defined and being set to 0.0 in labels with no predicted samples. Use `zero_division` parameter to control this behavior.\n",
            "  _warn_prf(average, modifier, msg_start, len(result))\n"
          ]
        }
      ],
      "source": [
        "import pandas as pd\n",
        "import numpy as np\n",
        "import matplotlib.pyplot as plt\n",
        "from mlxtend.plotting import plot_confusion_matrix\n",
        "from sklearn.preprocessing import StandardScaler, PolynomialFeatures\n",
        "from sklearn.linear_model import LogisticRegression, LinearRegression\n",
        "from sklearn.naive_bayes import GaussianNB\n",
        "from sklearn.tree import DecisionTreeClassifier\n",
        "from sklearn.metrics import confusion_matrix\n",
        "from sklearn.metrics import accuracy_score, precision_score, recall_score, classification_report\n",
        "from sklearn.ensemble import StackingClassifier\n",
        "from sklearn.model_selection import train_test_split\n",
        "from sklearn.preprocessing import LabelEncoder\n",
        "\n",
        "data = pd.read_csv(\"/content/drive/MyDrive/Colab Notebooks/data.csv\", usecols=['radius_mean', 'perimeter_mean', 'area_mean', 'diagnosis'])\n",
        "data.head()\n",
        "\n",
        "features = data.drop('diagnosis', axis=1)\n",
        "label = data['diagnosis']\n",
        "\n",
        "encoder = LabelEncoder()\n",
        "labels = encoder.fit_transform(label)\n",
        "\n",
        "trainF, testF, trainL, testL = train_test_split(features, labels, test_size=0.2, random_state=132)\n",
        "\n",
        "model1 = GaussianNB(var_smoothing=0.00001)\n",
        "model1.fit(trainF, trainL)\n",
        "pred1 = model1.predict(testF)\n",
        "\n",
        "model2 = LogisticRegression(max_iter=3000)\n",
        "model2.fit(trainF, trainL)\n",
        "pred2 = model2.predict(testF)\n",
        "\n",
        "model3 = DecisionTreeClassifier(max_leaf_nodes=50)\n",
        "model3.fit(trainF, trainL)\n",
        "pred3 = model3.predict(testF)\n",
        "\n",
        "blender = LogisticRegression(max_iter=3000)\n",
        "mixture = np.array([pred1, pred2, pred3])\n",
        "mixture = np.transpose(mixture)\n",
        "blender.fit(mixture, testL)\n",
        "\n",
        "predicted = blender.predict(testF)\n",
        "print('Accuracy {}'.format(accuracy_score(testL, predicted)))\n",
        "print('Precision {}'.format(precision_score(testL, predicted)))\n",
        "print('Recall {}'.format(recall_score(testL, predicted)))\n",
        "print(classification_report(testL, predicted))"
      ]
    },
    {
      "cell_type": "code",
      "source": [
        "from sklearn.ensemble import BaggingClassifier\n",
        "import pandas as pd\n",
        "import numpy as np\n",
        "import matplotlib.pyplot as plt\n",
        "from sklearn.metrics import confusion_matrix\n",
        "from sklearn.metrics import accuracy_score, precision_score, recall_score, classification_report\n",
        "from sklearn.model_selection import train_test_split\n",
        "from sklearn.preprocessing import LabelEncoder\n",
        "\n",
        "data = pd.read_csv(\"/content/drive/MyDrive/Colab Notebooks/data.csv\")\n",
        "data.head()\n",
        "\n",
        "data = data.drop('Unnamed: 32', axis=1)\n",
        "\n",
        "features = data.drop('diagnosis', axis=1)\n",
        "labels = data['diagnosis']\n",
        "\n",
        "encoder = LabelEncoder()\n",
        "labels = encoder.fit_transform(labels)\n",
        "\n",
        "trainF, testF, trainL, testL = train_test_split(features, labels, test_size=0.2, random_state=7)\n",
        "\n",
        "model = BaggingClassifier()\n",
        "model.fit(trainF, trainL)\n",
        "\n",
        "predicted = model.predict(testF)\n",
        "print('Accuracy {}'.format(accuracy_score(testL, predicted)))\n",
        "print('Precision {}'.format(precision_score(testL, predicted)))\n",
        "print('Recall {}'.format(recall_score(testL, predicted)))\n",
        "print(classification_report(testL, predicted))"
      ],
      "metadata": {
        "colab": {
          "base_uri": "https://localhost:8080/"
        },
        "id": "7uV-1b7zPy_h",
        "outputId": "953a643d-8ab4-41f7-d4b5-42461d1a9ca2"
      },
      "execution_count": null,
      "outputs": [
        {
          "output_type": "stream",
          "name": "stdout",
          "text": [
            "Accuracy 0.956140350877193\n",
            "Precision 1.0\n",
            "Recall 0.875\n",
            "              precision    recall  f1-score   support\n",
            "\n",
            "           0       0.94      1.00      0.97        74\n",
            "           1       1.00      0.88      0.93        40\n",
            "\n",
            "    accuracy                           0.96       114\n",
            "   macro avg       0.97      0.94      0.95       114\n",
            "weighted avg       0.96      0.96      0.96       114\n",
            "\n"
          ]
        }
      ]
    },
    {
      "cell_type": "code",
      "source": [
        "from sklearn.ensemble import AdaBoostClassifier\n",
        "from sklearn.tree import DecisionTreeClassifier\n",
        "from sklearn.ensemble import BaggingClassifier\n",
        "import pandas as pd\n",
        "import numpy as np\n",
        "import matplotlib.pyplot as plt\n",
        "from sklearn.metrics import confusion_matrix\n",
        "from sklearn.metrics import accuracy_score, precision_score, recall_score, classification_report\n",
        "from sklearn.model_selection import train_test_split\n",
        "from sklearn.preprocessing import LabelEncoder\n",
        "\n",
        "data = pd.read_csv(\"/content/drive/MyDrive/Colab Notebooks/data.csv\")\n",
        "data.head()\n",
        "\n",
        "data = data.drop('Unnamed: 32', axis=1)\n",
        "\n",
        "features = data.drop('diagnosis', axis=1)\n",
        "labels = data['diagnosis']\n",
        "\n",
        "encoder = LabelEncoder()\n",
        "labels = encoder.fit_transform(labels)\n",
        "\n",
        "trainF, testF, trainL, testL = train_test_split(features, labels, test_size=0.2, random_state=7)\n",
        "\n",
        "model = AdaBoostClassifier()\n",
        "model.fit(trainF, trainL)\n",
        "\n",
        "predicted = model.predict(testF)\n",
        "print('Accuracy {}'.format(accuracy_score(testL, predicted)))\n",
        "print('Precision {}'.format(precision_score(testL, predicted)))\n",
        "print('Recall {}'.format(recall_score(testL, predicted)))\n",
        "print(classification_report(testL, predicted))"
      ],
      "metadata": {
        "colab": {
          "base_uri": "https://localhost:8080/"
        },
        "id": "dxxaysdqSm5o",
        "outputId": "1baae070-6036-439b-eb1b-72db5fdaaf98"
      },
      "execution_count": null,
      "outputs": [
        {
          "output_type": "stream",
          "name": "stdout",
          "text": [
            "Accuracy 0.9736842105263158\n",
            "Precision 0.9743589743589743\n",
            "Recall 0.95\n",
            "              precision    recall  f1-score   support\n",
            "\n",
            "           0       0.97      0.99      0.98        74\n",
            "           1       0.97      0.95      0.96        40\n",
            "\n",
            "    accuracy                           0.97       114\n",
            "   macro avg       0.97      0.97      0.97       114\n",
            "weighted avg       0.97      0.97      0.97       114\n",
            "\n"
          ]
        }
      ]
    },
    {
      "cell_type": "code",
      "source": [
        "from sklearn.ensemble import AdaBoostClassifier\n",
        "from sklearn.tree import DecisionTreeClassifier\n",
        "from sklearn.ensemble import BaggingClassifier\n",
        "import pandas as pd\n",
        "import numpy as np\n",
        "import matplotlib.pyplot as plt\n",
        "from sklearn.metrics import confusion_matrix\n",
        "from sklearn.metrics import accuracy_score, precision_score, recall_score, classification_report\n",
        "from sklearn.model_selection import train_test_split\n",
        "from sklearn.preprocessing import LabelEncoder\n",
        "from torch.nn.functional import mse_loss\n",
        "\n",
        "data = pd.read_csv(\"/content/drive/MyDrive/Colab Notebooks/diabetes.csv\")\n",
        "data.head()\n",
        "\n",
        "features = data.drop('Outcome', axis=1)\n",
        "labels = data['Outcome']\n",
        "\n",
        "trainF, testF, trainL, testL = train_test_split(features, labels, test_size=0.1, random_state=7)\n",
        "\n",
        "model = AdaBoostClassifier(learning_rate=0.0001, random_state=132)\n",
        "model.fit(trainF, trainL)\n",
        "\n",
        "predicted = model.predict(testF)\n",
        "loss = 0\n",
        "\n",
        "testLabels = np.array(testL)\n",
        "\n",
        "for i in range(len(testLabels)):\n",
        "  loss += ((predicted[i] - testLabels[i]) ** 2)\n",
        "loss /= len(testLabels)\n",
        "\n",
        "print('\\nLoss: ', loss, '\\n')\n",
        "print('Accuracy {}'.format(accuracy_score(testL, predicted)))\n",
        "print('Precision {}'.format(precision_score(testL, predicted)))\n",
        "print('Recall {}'.format(recall_score(testL, predicted)))\n",
        "print(classification_report(testL, predicted))"
      ],
      "metadata": {
        "colab": {
          "base_uri": "https://localhost:8080/"
        },
        "id": "OozLw5GzCSp3",
        "outputId": "49422bee-005b-4eee-ad36-a7942884e37b"
      },
      "execution_count": 49,
      "outputs": [
        {
          "output_type": "stream",
          "name": "stdout",
          "text": [
            "\n",
            "Loss:  0.2077922077922078 \n",
            "\n",
            "Accuracy 0.7922077922077922\n",
            "Precision 0.7027027027027027\n",
            "Recall 0.8387096774193549\n",
            "              precision    recall  f1-score   support\n",
            "\n",
            "           0       0.88      0.76      0.81        46\n",
            "           1       0.70      0.84      0.76        31\n",
            "\n",
            "    accuracy                           0.79        77\n",
            "   macro avg       0.79      0.80      0.79        77\n",
            "weighted avg       0.81      0.79      0.79        77\n",
            "\n"
          ]
        }
      ]
    }
  ]
}